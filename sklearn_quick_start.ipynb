{
 "cells": [
  {
   "cell_type": "markdown",
   "metadata": {},
   "source": [
    "### `scikit.learn` imports"
   ]
  },
  {
   "cell_type": "code",
   "execution_count": 1,
   "metadata": {
    "ExecuteTime": {
     "end_time": "2019-01-03T18:28:32.910022Z",
     "start_time": "2019-01-03T18:28:31.103208Z"
    }
   },
   "outputs": [],
   "source": [
    "# modules\n",
    "from sklearn import (datasets, \n",
    "                     metrics, \n",
    "                     model_selection as skms,\n",
    "                     neighbors,\n",
    "                     linear_model,\n",
    "                     svm)\n",
    "# other friends\n",
    "import numpy as np\n",
    "import matplotlib.pyplot as plt\n",
    "import seaborn as sns\n",
    "import pandas as pd\n",
    "from IPython.display import display\n",
    "\n",
    "# inline graphics\n",
    "%matplotlib inline"
   ]
  },
  {
   "cell_type": "code",
   "execution_count": 2,
   "metadata": {
    "ExecuteTime": {
     "end_time": "2019-01-03T18:28:32.933258Z",
     "start_time": "2019-01-03T18:28:32.926286Z"
    }
   },
   "outputs": [],
   "source": [
    "import warnings\n",
    "warnings.filterwarnings('ignore') # force sklearn to be quiet"
   ]
  },
  {
   "cell_type": "code",
   "execution_count": 3,
   "metadata": {
    "ExecuteTime": {
     "end_time": "2019-01-03T18:28:32.955385Z",
     "start_time": "2019-01-03T18:28:32.948879Z"
    }
   },
   "outputs": [],
   "source": [
    "#linear_model\n",
    "#linear_model.LinearRegression"
   ]
  },
  {
   "cell_type": "markdown",
   "metadata": {},
   "source": [
    "# basic procedure overview"
   ]
  },
  {
   "cell_type": "code",
   "execution_count": 4,
   "metadata": {
    "ExecuteTime": {
     "end_time": "2019-01-03T18:28:33.127589Z",
     "start_time": "2019-01-03T18:28:33.015664Z"
    }
   },
   "outputs": [
    {
     "data": {
      "text/html": [
       "<div>\n",
       "<style scoped>\n",
       "    .dataframe tbody tr th:only-of-type {\n",
       "        vertical-align: middle;\n",
       "    }\n",
       "\n",
       "    .dataframe tbody tr th {\n",
       "        vertical-align: top;\n",
       "    }\n",
       "\n",
       "    .dataframe thead th {\n",
       "        text-align: right;\n",
       "    }\n",
       "</style>\n",
       "<table border=\"1\" class=\"dataframe\">\n",
       "  <thead>\n",
       "    <tr style=\"text-align: right;\">\n",
       "      <th></th>\n",
       "      <th>age</th>\n",
       "      <th>sex</th>\n",
       "      <th>bmi</th>\n",
       "      <th>bp</th>\n",
       "      <th>s1</th>\n",
       "      <th>s2</th>\n",
       "      <th>s3</th>\n",
       "      <th>s4</th>\n",
       "      <th>s5</th>\n",
       "      <th>s6</th>\n",
       "      <th>target</th>\n",
       "    </tr>\n",
       "  </thead>\n",
       "  <tbody>\n",
       "    <tr>\n",
       "      <th>0</th>\n",
       "      <td>0.038076</td>\n",
       "      <td>0.050680</td>\n",
       "      <td>0.061696</td>\n",
       "      <td>0.021872</td>\n",
       "      <td>-0.044223</td>\n",
       "      <td>-0.034821</td>\n",
       "      <td>-0.043401</td>\n",
       "      <td>-0.002592</td>\n",
       "      <td>0.019908</td>\n",
       "      <td>-0.017646</td>\n",
       "      <td>151.0</td>\n",
       "    </tr>\n",
       "    <tr>\n",
       "      <th>1</th>\n",
       "      <td>-0.001882</td>\n",
       "      <td>-0.044642</td>\n",
       "      <td>-0.051474</td>\n",
       "      <td>-0.026328</td>\n",
       "      <td>-0.008449</td>\n",
       "      <td>-0.019163</td>\n",
       "      <td>0.074412</td>\n",
       "      <td>-0.039493</td>\n",
       "      <td>-0.068330</td>\n",
       "      <td>-0.092204</td>\n",
       "      <td>75.0</td>\n",
       "    </tr>\n",
       "    <tr>\n",
       "      <th>2</th>\n",
       "      <td>0.085299</td>\n",
       "      <td>0.050680</td>\n",
       "      <td>0.044451</td>\n",
       "      <td>-0.005671</td>\n",
       "      <td>-0.045599</td>\n",
       "      <td>-0.034194</td>\n",
       "      <td>-0.032356</td>\n",
       "      <td>-0.002592</td>\n",
       "      <td>0.002864</td>\n",
       "      <td>-0.025930</td>\n",
       "      <td>141.0</td>\n",
       "    </tr>\n",
       "    <tr>\n",
       "      <th>3</th>\n",
       "      <td>-0.089063</td>\n",
       "      <td>-0.044642</td>\n",
       "      <td>-0.011595</td>\n",
       "      <td>-0.036656</td>\n",
       "      <td>0.012191</td>\n",
       "      <td>0.024991</td>\n",
       "      <td>-0.036038</td>\n",
       "      <td>0.034309</td>\n",
       "      <td>0.022692</td>\n",
       "      <td>-0.009362</td>\n",
       "      <td>206.0</td>\n",
       "    </tr>\n",
       "    <tr>\n",
       "      <th>4</th>\n",
       "      <td>0.005383</td>\n",
       "      <td>-0.044642</td>\n",
       "      <td>-0.036385</td>\n",
       "      <td>0.021872</td>\n",
       "      <td>0.003935</td>\n",
       "      <td>0.015596</td>\n",
       "      <td>0.008142</td>\n",
       "      <td>-0.002592</td>\n",
       "      <td>-0.031991</td>\n",
       "      <td>-0.046641</td>\n",
       "      <td>135.0</td>\n",
       "    </tr>\n",
       "  </tbody>\n",
       "</table>\n",
       "</div>"
      ],
      "text/plain": [
       "        age       sex       bmi        bp        s1        s2        s3  \\\n",
       "0  0.038076  0.050680  0.061696  0.021872 -0.044223 -0.034821 -0.043401   \n",
       "1 -0.001882 -0.044642 -0.051474 -0.026328 -0.008449 -0.019163  0.074412   \n",
       "2  0.085299  0.050680  0.044451 -0.005671 -0.045599 -0.034194 -0.032356   \n",
       "3 -0.089063 -0.044642 -0.011595 -0.036656  0.012191  0.024991 -0.036038   \n",
       "4  0.005383 -0.044642 -0.036385  0.021872  0.003935  0.015596  0.008142   \n",
       "\n",
       "         s4        s5        s6  target  \n",
       "0 -0.002592  0.019908 -0.017646   151.0  \n",
       "1 -0.039493 -0.068330 -0.092204    75.0  \n",
       "2 -0.002592  0.002864 -0.025930   141.0  \n",
       "3  0.034309  0.022692 -0.009362   206.0  \n",
       "4 -0.002592 -0.031991 -0.046641   135.0  "
      ]
     },
     "execution_count": 4,
     "metadata": {},
     "output_type": "execute_result"
    }
   ],
   "source": [
    "diabetes = datasets.load_diabetes()\n",
    "diabetes_df = pd.DataFrame(diabetes.data, \n",
    "                           columns=diabetes.feature_names)\n",
    "diabetes_df['target'] = diabetes.target\n",
    "diabetes_df.head()"
   ]
  },
  {
   "cell_type": "code",
   "execution_count": 5,
   "metadata": {
    "ExecuteTime": {
     "end_time": "2019-01-03T18:28:34.842819Z",
     "start_time": "2019-01-03T18:28:34.837713Z"
    }
   },
   "outputs": [],
   "source": [
    "# for classification, train_test_split can use stratify=True\n",
    "(diabetes_train_ftrs, diabetes_test_ftrs,\n",
    " diabetes_train_tgt , diabetes_test_tgt) = skms.train_test_split(diabetes.data, \n",
    "                                                                 diabetes.target)"
   ]
  },
  {
   "cell_type": "code",
   "execution_count": 6,
   "metadata": {
    "ExecuteTime": {
     "end_time": "2019-01-03T18:28:35.518301Z",
     "start_time": "2019-01-03T18:28:35.513393Z"
    }
   },
   "outputs": [
    {
     "name": "stdout",
     "output_type": "stream",
     "text": [
      "(111, 10)\n",
      "(331, 10)\n"
     ]
    }
   ],
   "source": [
    "print(diabetes_test_ftrs.shape,\n",
    "      diabetes_train_ftrs.shape, sep='\\n')"
   ]
  },
  {
   "cell_type": "code",
   "execution_count": 7,
   "metadata": {
    "ExecuteTime": {
     "end_time": "2019-01-03T18:28:36.300431Z",
     "start_time": "2019-01-03T18:28:36.012530Z"
    }
   },
   "outputs": [
    {
     "data": {
      "text/plain": [
       "LinearRegression(copy_X=True, fit_intercept=True, n_jobs=None, normalize=False)"
      ]
     },
     "execution_count": 7,
     "metadata": {},
     "output_type": "execute_result"
    }
   ],
   "source": [
    "# fit a model to the training data\n",
    "linreg_model = linear_model.LinearRegression()\n",
    "linreg_model.fit(diabetes_train_ftrs, diabetes_train_tgt)"
   ]
  },
  {
   "cell_type": "code",
   "execution_count": 8,
   "metadata": {
    "ExecuteTime": {
     "end_time": "2019-01-03T18:28:36.433753Z",
     "start_time": "2019-01-03T18:28:36.428658Z"
    }
   },
   "outputs": [
    {
     "name": "stdout",
     "output_type": "stream",
     "text": [
      "[ 95.97626784  91.80412751 161.79908223  67.26257636 161.91974663\n",
      " 179.90837875  71.66290905 156.27919369  50.5885396  186.87418706]\n"
     ]
    }
   ],
   "source": [
    "# predict on the test data\n",
    "preds = linreg_model.predict(diabetes_test_ftrs)\n",
    "print(preds[:10])"
   ]
  },
  {
   "cell_type": "code",
   "execution_count": 9,
   "metadata": {
    "ExecuteTime": {
     "end_time": "2019-01-03T18:28:36.892521Z",
     "start_time": "2019-01-03T18:28:36.886885Z"
    }
   },
   "outputs": [
    {
     "name": "stdout",
     "output_type": "stream",
     "text": [
      "56.814342668655556\n"
     ]
    }
   ],
   "source": [
    "# compute root-mean-squared-error (MSE) between predictions and reality\n",
    "mse = metrics.mean_squared_error(diabetes_test_tgt, preds)\n",
    "print(np.sqrt(mse)) # sqrt is back in units of the target"
   ]
  },
  {
   "cell_type": "markdown",
   "metadata": {},
   "source": [
    "# advanced procedure overview"
   ]
  },
  {
   "cell_type": "code",
   "execution_count": 10,
   "metadata": {
    "ExecuteTime": {
     "end_time": "2019-01-03T18:28:37.586903Z",
     "start_time": "2019-01-03T18:28:37.565323Z"
    }
   },
   "outputs": [
    {
     "data": {
      "text/plain": [
       "array([0.96078431, 0.92156863, 0.95833333])"
      ]
     },
     "execution_count": 10,
     "metadata": {},
     "output_type": "execute_result"
    }
   ],
   "source": [
    "# data, model, fit&score\n",
    "iris = datasets.load_iris()\n",
    "model = linear_model.LogisticRegression()\n",
    "skms.cross_val_score(model, iris.data, iris.target)"
   ]
  },
  {
   "cell_type": "code",
   "execution_count": 11,
   "metadata": {
    "ExecuteTime": {
     "end_time": "2019-01-03T18:28:37.960281Z",
     "start_time": "2019-01-03T18:28:37.945518Z"
    }
   },
   "outputs": [
    {
     "data": {
      "text/plain": [
       "array([-0.        , -0.03333333, -0.06666667, -0.1       , -0.        ])"
      ]
     },
     "execution_count": 11,
     "metadata": {},
     "output_type": "execute_result"
    }
   ],
   "source": [
    "# control fit & score\n",
    "# sklearn \"scorers\" are both \n",
    "#   * losses (lower is better) \n",
    "#   * scores (bigger is better)\n",
    "# sklearn generally uses \"bigger is better\"\n",
    "# which can make for weird signs some times\n",
    "# lots of possibilities:  see metrics.SCORERS.keys()\n",
    "skms.cross_val_score(model, \n",
    "                     iris.data, iris.target, \n",
    "                     cv=5, \n",
    "                     scoring='neg_mean_absolute_error') "
   ]
  },
  {
   "cell_type": "code",
   "execution_count": 12,
   "metadata": {
    "ExecuteTime": {
     "end_time": "2019-01-03T18:28:38.335752Z",
     "start_time": "2019-01-03T18:28:38.316707Z"
    }
   },
   "outputs": [
    {
     "data": {
      "text/plain": [
       "array([-0.        , -0.25819889, -0.        , -0.25819889, -0.25819889])"
      ]
     },
     "execution_count": 12,
     "metadata": {},
     "output_type": "execute_result"
    }
   ],
   "source": [
    "# even more custom control of scoring\n",
    "def neg_RMSE(mod, ftrs, tgt):\n",
    "    tgt_pred = mod.predict(ftrs)\n",
    "    tgt_true = tgt\n",
    "    MSE = metrics.mean_squared_error(tgt_true, tgt_pred)\n",
    "    return -np.sqrt(MSE)\n",
    "\n",
    "skms.cross_val_score(model, \n",
    "                     iris.data, iris.target, \n",
    "                     cv=skms.KFold(5, shuffle=True),  # and CV\n",
    "                     scoring=neg_RMSE)"
   ]
  },
  {
   "cell_type": "code",
   "execution_count": 13,
   "metadata": {
    "ExecuteTime": {
     "end_time": "2019-01-03T18:28:38.825035Z",
     "start_time": "2019-01-03T18:28:38.719686Z"
    }
   },
   "outputs": [
    {
     "data": {
      "text/plain": [
       "{'n_neighbors': 5}"
      ]
     },
     "execution_count": 13,
     "metadata": {},
     "output_type": "execute_result"
    }
   ],
   "source": [
    "# very often, we don't -know- the best parameters/model\n",
    "# so we see who does the best on the data\n",
    "# in this case, let's find the best \n",
    "\n",
    "# barebones\n",
    "# model = neighbors.KNeighborsClassifier(10) # if we knew it\n",
    "knn = neighbors.KNeighborsClassifier()\n",
    "mod = skms.GridSearchCV(knn, {\"n_neighbors\":np.arange(1,11)})\n",
    "results = mod.fit(iris.data, iris.target)\n",
    "results.best_params_"
   ]
  },
  {
   "cell_type": "code",
   "execution_count": 14,
   "metadata": {
    "ExecuteTime": {
     "end_time": "2019-01-03T18:28:39.440549Z",
     "start_time": "2019-01-03T18:28:39.227856Z"
    }
   },
   "outputs": [
    {
     "data": {
      "text/plain": [
       "GridSearchCV(cv=KFold(n_splits=10, random_state=None, shuffle=True),\n",
       "             error_score='raise-deprecating',\n",
       "             estimator=KNeighborsClassifier(algorithm='auto', leaf_size=30,\n",
       "                                            metric='minkowski',\n",
       "                                            metric_params=None, n_jobs=None,\n",
       "                                            n_neighbors=5, p=2,\n",
       "                                            weights='uniform'),\n",
       "             iid='warn', n_jobs=None,\n",
       "             param_grid={'n_neighbors': array([ 1,  2,  3,  4,  5,  6,  7,  8,  9, 10])},\n",
       "             pre_dispatch='2*n_jobs', refit=True, return_train_score=False,\n",
       "             scoring=None, verbose=0)"
      ]
     },
     "execution_count": 14,
     "metadata": {},
     "output_type": "execute_result"
    }
   ],
   "source": [
    "knn = neighbors.KNeighborsClassifier()\n",
    "\n",
    "params = {\"n_neighbors\":np.arange(1,11)}\n",
    "kfold = skms.KFold(n_splits=10, shuffle=True)\n",
    "gscv = skms.GridSearchCV(knn, params, cv=kfold)\n",
    "\n",
    "f = gscv.fit(iris.data, iris.target)\n",
    "gscv\n",
    "# refit with best parameters on all the whole dataset \n",
    "# to use in \"production\" on brand new, different examples\n",
    "# by default GridSearchCV does the fit for us, so this is \n",
    "# ready to use\n",
    "# best_knn = f.best_estimator_\n",
    "# and new we profit!  or save the world ..."
   ]
  },
  {
   "cell_type": "code",
   "execution_count": 15,
   "metadata": {
    "ExecuteTime": {
     "end_time": "2019-01-03T18:28:39.669720Z",
     "start_time": "2019-01-03T18:28:39.646924Z"
    }
   },
   "outputs": [
    {
     "name": "stdout",
     "output_type": "stream",
     "text": [
      "[(0.9733333333333334, 10), (0.9733333333333334, 9), (0.9733333333333334, 7), (0.9666666666666667, 8), (0.9666666666666667, 5), (0.96, 6), (0.96, 4), (0.96, 3), (0.96, 1), (0.9466666666666667, 2)]\n"
     ]
    },
    {
     "data": {
      "text/html": [
       "<div>\n",
       "<style scoped>\n",
       "    .dataframe tbody tr th:only-of-type {\n",
       "        vertical-align: middle;\n",
       "    }\n",
       "\n",
       "    .dataframe tbody tr th {\n",
       "        vertical-align: top;\n",
       "    }\n",
       "\n",
       "    .dataframe thead th {\n",
       "        text-align: right;\n",
       "    }\n",
       "</style>\n",
       "<table border=\"1\" class=\"dataframe\">\n",
       "  <thead>\n",
       "    <tr style=\"text-align: right;\">\n",
       "      <th></th>\n",
       "      <th>mean_test_score</th>\n",
       "      <th>params</th>\n",
       "    </tr>\n",
       "  </thead>\n",
       "  <tbody>\n",
       "    <tr>\n",
       "      <th>6</th>\n",
       "      <td>0.973333</td>\n",
       "      <td>{'n_neighbors': 7}</td>\n",
       "    </tr>\n",
       "    <tr>\n",
       "      <th>8</th>\n",
       "      <td>0.973333</td>\n",
       "      <td>{'n_neighbors': 9}</td>\n",
       "    </tr>\n",
       "    <tr>\n",
       "      <th>9</th>\n",
       "      <td>0.973333</td>\n",
       "      <td>{'n_neighbors': 10}</td>\n",
       "    </tr>\n",
       "    <tr>\n",
       "      <th>4</th>\n",
       "      <td>0.966667</td>\n",
       "      <td>{'n_neighbors': 5}</td>\n",
       "    </tr>\n",
       "    <tr>\n",
       "      <th>7</th>\n",
       "      <td>0.966667</td>\n",
       "      <td>{'n_neighbors': 8}</td>\n",
       "    </tr>\n",
       "    <tr>\n",
       "      <th>0</th>\n",
       "      <td>0.960000</td>\n",
       "      <td>{'n_neighbors': 1}</td>\n",
       "    </tr>\n",
       "    <tr>\n",
       "      <th>2</th>\n",
       "      <td>0.960000</td>\n",
       "      <td>{'n_neighbors': 3}</td>\n",
       "    </tr>\n",
       "    <tr>\n",
       "      <th>3</th>\n",
       "      <td>0.960000</td>\n",
       "      <td>{'n_neighbors': 4}</td>\n",
       "    </tr>\n",
       "    <tr>\n",
       "      <th>5</th>\n",
       "      <td>0.960000</td>\n",
       "      <td>{'n_neighbors': 6}</td>\n",
       "    </tr>\n",
       "    <tr>\n",
       "      <th>1</th>\n",
       "      <td>0.946667</td>\n",
       "      <td>{'n_neighbors': 2}</td>\n",
       "    </tr>\n",
       "  </tbody>\n",
       "</table>\n",
       "</div>"
      ],
      "text/plain": [
       "   mean_test_score               params\n",
       "6         0.973333   {'n_neighbors': 7}\n",
       "8         0.973333   {'n_neighbors': 9}\n",
       "9         0.973333  {'n_neighbors': 10}\n",
       "4         0.966667   {'n_neighbors': 5}\n",
       "7         0.966667   {'n_neighbors': 8}\n",
       "0         0.960000   {'n_neighbors': 1}\n",
       "2         0.960000   {'n_neighbors': 3}\n",
       "3         0.960000   {'n_neighbors': 4}\n",
       "5         0.960000   {'n_neighbors': 6}\n",
       "1         0.946667   {'n_neighbors': 2}"
      ]
     },
     "execution_count": 15,
     "metadata": {},
     "output_type": "execute_result"
    }
   ],
   "source": [
    "# what were the good parameters?\n",
    "# how sensitive are the results to a parameter?\n",
    "# pure python\n",
    "print(sorted(zip(f.cv_results_['mean_test_score'], \n",
    "                 f.cv_results_['param_n_neighbors']), reverse=True))\n",
    "\n",
    "# pandas style kung-fu\n",
    "df = pd.DataFrame(f.cv_results_)\n",
    "show=['mean_test_score','params']\n",
    "df.sort_values(by=['mean_test_score'], ascending=False)[show]"
   ]
  },
  {
   "cell_type": "code",
   "execution_count": null,
   "metadata": {},
   "outputs": [],
   "source": []
  }
 ],
 "metadata": {
  "kernelspec": {
   "display_name": "Python 3",
   "language": "python",
   "name": "python3"
  },
  "language_info": {
   "codemirror_mode": {
    "name": "ipython",
    "version": 3
   },
   "file_extension": ".py",
   "mimetype": "text/x-python",
   "name": "python",
   "nbconvert_exporter": "python",
   "pygments_lexer": "ipython3",
   "version": "3.7.4"
  },
  "varInspector": {
   "cols": {
    "lenName": 16,
    "lenType": 16,
    "lenVar": 40
   },
   "kernels_config": {
    "python": {
     "delete_cmd_postfix": "",
     "delete_cmd_prefix": "del ",
     "library": "var_list.py",
     "varRefreshCmd": "print(var_dic_list())"
    },
    "r": {
     "delete_cmd_postfix": ") ",
     "delete_cmd_prefix": "rm(",
     "library": "var_list.r",
     "varRefreshCmd": "cat(var_dic_list()) "
    }
   },
   "types_to_exclude": [
    "module",
    "function",
    "builtin_function_or_method",
    "instance",
    "_Feature"
   ],
   "window_display": false
  }
 },
 "nbformat": 4,
 "nbformat_minor": 2
}
